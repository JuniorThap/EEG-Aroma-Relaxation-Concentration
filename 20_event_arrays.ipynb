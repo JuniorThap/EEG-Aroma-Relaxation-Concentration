{
  "cells": [
    {
      "cell_type": "markdown",
      "metadata": {},
      "source": [
        "\n",
        "\n",
        "# Working with events\n",
        "\n",
        "This tutorial describes event representation and how event arrays are used to\n",
        "subselect data.\n",
        "\n",
        "As usual we'll start by importing the modules we need, loading some\n",
        "`example data <sample-dataset>`, and cropping the :class:`~mne.io.Raw`\n",
        "object to just 60 seconds before loading it into RAM to save memory:\n"
      ]
    },
    {
      "cell_type": "code",
      "execution_count": null,
      "metadata": {
        "collapsed": false
      },
      "outputs": [],
      "source": [
        "# License: BSD-3-Clause\n",
        "# Copyright the MNE-Python contributors."
      ]
    },
    {
      "cell_type": "code",
      "execution_count": 1,
      "metadata": {
        "collapsed": false
      },
      "outputs": [
        {
          "name": "stdout",
          "output_type": "stream",
          "text": [
            "Using default location ~/mne_data for sample...\n",
            "Creating ~/mne_data\n"
          ]
        },
        {
          "name": "stderr",
          "output_type": "stream",
          "text": [
            "Downloading file 'MNE-sample-data-processed.tar.gz' from 'https://osf.io/86qa2/download?version=6' to 'C:\\Users\\thapa\\mne_data'.\n",
            "100%|######################################| 1.65G/1.65G [00:00<00:00, 564GB/s]\n",
            "Untarring contents of 'C:\\Users\\thapa\\mne_data\\MNE-sample-data-processed.tar.gz' to 'C:\\Users\\thapa\\mne_data'\n"
          ]
        }
      ],
      "source": [
        "import os\n",
        "\n",
        "import numpy as np\n",
        "\n",
        "import mne\n",
        "\n",
        "sample_data_folder = mne.datasets.sample.data_path()\n",
        "sample_data_raw_file = os.path.join(\n",
        "    sample_data_folder, \"MEG\", \"sample\", \"sample_audvis_raw.fif\"\n",
        ")\n",
        "raw = mne.io.read_raw_fif(sample_data_raw_file, verbose=False)\n",
        "raw.crop(tmax=60).load_data()"
      ]
    },
    {
      "cell_type": "markdown",
      "metadata": {},
      "source": [
        "The tutorial `tut-events-vs-annotations` describes in detail the\n",
        "different ways of obtaining an :term:`Events array <events>` from a\n",
        ":class:`~mne.io.Raw` object (see the section\n",
        "`overview-tut-events-section` for details). Since the `sample\n",
        "dataset <sample-dataset>` includes experimental events recorded on\n",
        ":term:`stim channel` ``STI 014``, we'll start this tutorial by parsing the\n",
        "events from that channel using :func:`mne.find_events`:\n",
        "\n"
      ]
    },
    {
      "cell_type": "code",
      "execution_count": null,
      "metadata": {
        "collapsed": false
      },
      "outputs": [],
      "source": [
        "events = mne.find_events(raw, stim_channel=\"STI 014\")"
      ]
    },
    {
      "cell_type": "markdown",
      "metadata": {},
      "source": [
        "\n",
        "## Reading and writing events from/to a file\n",
        "\n",
        "Event arrays are :class:`NumPy array <numpy.ndarray>` objects, so they could\n",
        "be saved to disk as binary :file:`.npy` files using :func:`numpy.save`.\n",
        "However, MNE-Python provides convenience functions :func:`mne.read_events`\n",
        "and :func:`mne.write_events` for reading and writing event arrays as either\n",
        "text files (common file extensions are :file:`.eve`, :file:`.lst`, and\n",
        ":file:`.txt`) or binary :file:`.fif` files. The example dataset includes the\n",
        "results of ``mne.find_events(raw)`` in a :file:`.fif` file. Since we've\n",
        "truncated our :class:`~mne.io.Raw` object, it will have fewer events than the\n",
        "events file loaded from disk (which contains events for the entire\n",
        "recording), but the events should match for the first 60 seconds anyway:\n",
        "\n"
      ]
    },
    {
      "cell_type": "code",
      "execution_count": null,
      "metadata": {
        "collapsed": false
      },
      "outputs": [],
      "source": [
        "sample_data_events_file = os.path.join(\n",
        "    sample_data_folder, \"MEG\", \"sample\", \"sample_audvis_raw-eve.fif\"\n",
        ")\n",
        "events_from_file = mne.read_events(sample_data_events_file)\n",
        "assert np.array_equal(events, events_from_file[: len(events)])"
      ]
    },
    {
      "cell_type": "markdown",
      "metadata": {},
      "source": [
        "When writing event arrays to disk, the format will be inferred from the file\n",
        "extension you provide. By convention, MNE-Python expects events files to\n",
        "either have an :file:`.eve` extension or to have a file basename ending in\n",
        "``-eve`` or ``_eve`` (e.g., :file:`{my_experiment}_eve.fif`), and will issue\n",
        "a warning if this convention is not respected.\n",
        "\n",
        "\n",
        "## Subselecting and combining events\n",
        "\n",
        "The output of :func:`~mne.find_events` above (repeated here) told us the\n",
        "number of events that were found, and the unique integer event IDs present:\n",
        "\n"
      ]
    },
    {
      "cell_type": "code",
      "execution_count": null,
      "metadata": {
        "collapsed": false
      },
      "outputs": [],
      "source": [
        "mne.find_events(raw, stim_channel=\"STI 014\")"
      ]
    },
    {
      "cell_type": "markdown",
      "metadata": {},
      "source": [
        ".. admonition:: Including/excluding events\n",
        "    :class: sidebar hint\n",
        "\n",
        "    Just like `~mne.pick_events`, `~mne.read_events` also has ``include``\n",
        "    and ``exclude`` parameters.\n",
        "\n",
        "If some of those events are not of interest, you can easily subselect events\n",
        "using :func:`mne.pick_events`, which has parameters ``include`` and\n",
        "``exclude``. For example, in the sample data Event ID 32 corresponds to a\n",
        "subject button press, which could be excluded as:\n",
        "\n"
      ]
    },
    {
      "cell_type": "code",
      "execution_count": null,
      "metadata": {
        "collapsed": false
      },
      "outputs": [],
      "source": [
        "events_no_button = mne.pick_events(events, exclude=32)"
      ]
    },
    {
      "cell_type": "markdown",
      "metadata": {},
      "source": [
        "It is also possible to combine two Event IDs using :func:`mne.merge_events`;\n",
        "the following example will combine Event IDs 1, 2 and 3 into a single event\n",
        "labelled ``1``:\n",
        "\n"
      ]
    },
    {
      "cell_type": "code",
      "execution_count": null,
      "metadata": {
        "collapsed": false
      },
      "outputs": [],
      "source": [
        "merged_events = mne.merge_events(events, [1, 2, 3], 1)\n",
        "print(np.unique(merged_events[:, -1]))"
      ]
    },
    {
      "cell_type": "markdown",
      "metadata": {},
      "source": [
        "Note, however, that merging events is not necessary if you simply want to\n",
        "pool trial types for analysis; the next section describes how MNE-Python uses\n",
        "*event dictionaries* to map integer Event IDs to more descriptive label\n",
        "strings.\n",
        "\n",
        "\n",
        "## Mapping Event IDs to trial descriptors\n",
        "\n",
        "So far in this tutorial we've only been dealing with integer Event IDs, which\n",
        "were assigned based on DC voltage pulse magnitude (which is ultimately\n",
        "determined by the experimenter's choices about what signals to send to the\n",
        "STIM channels). Keeping track of which Event ID corresponds to which\n",
        "experimental condition can be cumbersome, and it is often desirable to pool\n",
        "experimental conditions during analysis. You may recall that the mapping of\n",
        "integer Event IDs to meaningful descriptions for the `sample dataset\n",
        "<sample-dataset>` is given in `this table\n",
        "<sample-data-event-dict-table>` in the `introductory tutorial\n",
        "<tut-overview>`. Here we simply reproduce that mapping as an\n",
        "*event dictionary*:\n",
        "\n"
      ]
    },
    {
      "cell_type": "code",
      "execution_count": null,
      "metadata": {
        "collapsed": false
      },
      "outputs": [],
      "source": [
        "event_dict = {\n",
        "    \"auditory/left\": 1,\n",
        "    \"auditory/right\": 2,\n",
        "    \"visual/left\": 3,\n",
        "    \"visual/right\": 4,\n",
        "    \"smiley\": 5,\n",
        "    \"buttonpress\": 32,\n",
        "}"
      ]
    },
    {
      "cell_type": "markdown",
      "metadata": {},
      "source": [
        "Event dictionaries like this one are used when extracting epochs from\n",
        "continuous data, and the resulting :class:`~mne.Epochs` object allows pooling\n",
        "by requesting partial trial descriptors. For example, if we wanted to pool\n",
        "all auditory trials, instead of merging Event IDs 1 and 2 using the\n",
        ":func:`~mne.merge_events` function, we can make use of the fact that the keys\n",
        "of ``event_dict`` contain multiple trial descriptors separated by ``/``\n",
        "characters: requesting ``'auditory'`` trials will select all epochs with\n",
        "Event IDs 1 and 2; requesting ``'left'`` trials will select all epochs with\n",
        "Event IDs 1 and 3. An example of this is shown later, in the\n",
        "`tut-section-subselect-epochs` section of the tutorial\n",
        "`tut-epochs-class`.\n",
        "\n",
        "\n",
        "## Plotting events\n",
        "\n",
        "Another use of event dictionaries is when plotting events, which can serve as\n",
        "a useful check that your event signals were properly sent to the STIM\n",
        "channel(s) and that MNE-Python has successfully found them. The function\n",
        ":func:`mne.viz.plot_events` will plot each event versus its sample number\n",
        "(or, if you provide the sampling frequency, it will plot them versus time in\n",
        "seconds). It can also account for the offset between sample number and sample\n",
        "index in Neuromag systems, with the ``first_samp`` parameter. If an event\n",
        "dictionary is provided, it will be used to generate a legend:\n",
        "\n"
      ]
    },
    {
      "cell_type": "code",
      "execution_count": null,
      "metadata": {
        "collapsed": false
      },
      "outputs": [],
      "source": [
        "fig = mne.viz.plot_events(\n",
        "    events, sfreq=raw.info[\"sfreq\"], first_samp=raw.first_samp, event_id=event_dict\n",
        ")"
      ]
    },
    {
      "cell_type": "markdown",
      "metadata": {},
      "source": [
        "### Plotting events and raw data together\n",
        "\n",
        "Events can also be plotted alongside the :class:`~mne.io.Raw` object they\n",
        "were extracted from, by passing the Event array as the ``events`` parameter\n",
        "of :meth:`raw.plot <mne.io.Raw.plot>`:\n",
        "\n"
      ]
    },
    {
      "cell_type": "code",
      "execution_count": null,
      "metadata": {
        "collapsed": false
      },
      "outputs": [],
      "source": [
        "raw.plot(\n",
        "    events=events,\n",
        "    start=5,\n",
        "    duration=10,\n",
        "    color=\"gray\",\n",
        "    event_color={1: \"r\", 2: \"g\", 3: \"b\", 4: \"m\", 5: \"y\", 32: \"k\"},\n",
        ")"
      ]
    },
    {
      "cell_type": "markdown",
      "metadata": {},
      "source": [
        "\n",
        "## Making equally-spaced Events arrays\n",
        "\n",
        "For some experiments (such as those intending to analyze resting-state\n",
        "activity) there may not be any experimental events included in the raw\n",
        "recording. In such cases, an Events array of equally-spaced events can be\n",
        "generated using :func:`mne.make_fixed_length_events`:\n",
        "\n"
      ]
    },
    {
      "cell_type": "code",
      "execution_count": null,
      "metadata": {
        "collapsed": false
      },
      "outputs": [],
      "source": [
        "new_events = mne.make_fixed_length_events(raw, start=5, stop=50, duration=2.0)"
      ]
    },
    {
      "cell_type": "markdown",
      "metadata": {},
      "source": [
        "By default, the events will all be given the integer Event ID of ``1``, but\n",
        "you can change that with the ``id`` parameter. It is also possible to specify\n",
        "an ``overlap`` duration — i.e., if you ultimately want :term:`epochs` that\n",
        "are 2.5 seconds long, but you want them to overlap by 0.5 seconds, you can\n",
        "specify ``duration=2.5, overlap=0.5`` in the call to\n",
        ":func:`~mne.make_fixed_length_events` (this will yield the same spacing of\n",
        "events as ``duration=2, overlap=0)``.\n",
        "\n"
      ]
    }
  ],
  "metadata": {
    "kernelspec": {
      "display_name": "Python 3",
      "language": "python",
      "name": "python3"
    },
    "language_info": {
      "codemirror_mode": {
        "name": "ipython",
        "version": 3
      },
      "file_extension": ".py",
      "mimetype": "text/x-python",
      "name": "python",
      "nbconvert_exporter": "python",
      "pygments_lexer": "ipython3",
      "version": "3.11.8"
    }
  },
  "nbformat": 4,
  "nbformat_minor": 0
}
